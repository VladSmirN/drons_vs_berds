{
 "cells": [
  {
   "cell_type": "code",
   "execution_count": 17,
   "metadata": {},
   "outputs": [],
   "source": [
    "import json\n",
    "import pandas as pd \n",
    "\n",
    "with open('/home/vlad/datasets/drons_vs_berds/coco/dataset/drons_vs_berds_test.json') as json_data:\n",
    "    test_json = json.load(json_data)\n",
    "with open('/home/vlad/datasets/drons_vs_berds/coco/dataset/drons_vs_berds_valid.json') as json_data:\n",
    "    valid_json = json.load(json_data)\n",
    "with open('/home/vlad/datasets/drons_vs_berds/coco/dataset/drons_vs_berds_train.json') as json_data:\n",
    "    train_json = json.load(json_data)\n",
    " "
   ]
  },
  {
   "cell_type": "code",
   "execution_count": 18,
   "metadata": {},
   "outputs": [
    {
     "data": {
      "text/plain": [
       "count     3729.000000\n",
       "mean      1609.391258\n",
       "std       3505.232912\n",
       "min         63.000000\n",
       "25%        169.000000\n",
       "50%        320.000000\n",
       "75%        868.000000\n",
       "max      19932.000000\n",
       "Name: area, dtype: float64"
      ]
     },
     "execution_count": 18,
     "metadata": {},
     "output_type": "execute_result"
    }
   ],
   "source": [
    "annotations = pd.DataFrame(test_json['annotations'])\n",
    "annotations['area'].describe()"
   ]
  },
  {
   "cell_type": "code",
   "execution_count": 19,
   "metadata": {},
   "outputs": [
    {
     "data": {
      "text/plain": [
       "count     7068.000000\n",
       "mean      1407.778862\n",
       "std       5043.151991\n",
       "min         15.000000\n",
       "25%        200.000000\n",
       "50%        600.000000\n",
       "75%       1201.000000\n",
       "max      84987.000000\n",
       "Name: area, dtype: float64"
      ]
     },
     "execution_count": 19,
     "metadata": {},
     "output_type": "execute_result"
    }
   ],
   "source": [
    "annotations = pd.DataFrame(valid_json['annotations'])\n",
    "annotations['area'].describe()"
   ]
  },
  {
   "cell_type": "code",
   "execution_count": 20,
   "metadata": {},
   "outputs": [
    {
     "data": {
      "text/plain": [
       "count     48136.000000\n",
       "mean       1525.754674\n",
       "std        6930.153119\n",
       "min          16.000000\n",
       "25%         168.000000\n",
       "50%         364.000000\n",
       "75%        1120.000000\n",
       "max      211575.000000\n",
       "Name: area, dtype: float64"
      ]
     },
     "execution_count": 20,
     "metadata": {},
     "output_type": "execute_result"
    }
   ],
   "source": [
    "annotations = pd.DataFrame(train_json['annotations'])\n",
    "annotations['area'].describe()"
   ]
  },
  {
   "cell_type": "code",
   "execution_count": 15,
   "metadata": {},
   "outputs": [
    {
     "data": {
      "text/plain": [
       "count     3729.000000\n",
       "mean      1609.391258\n",
       "std       3505.232912\n",
       "min         63.000000\n",
       "25%        169.000000\n",
       "50%        320.000000\n",
       "75%        868.000000\n",
       "max      19932.000000\n",
       "Name: area, dtype: float64"
      ]
     },
     "execution_count": 15,
     "metadata": {},
     "output_type": "execute_result"
    }
   ],
   "source": [
    "annotations = pd.DataFrame(test_json['annotations'])\n",
    "annotations['area'].describe()"
   ]
  }
 ],
 "metadata": {
  "kernelspec": {
   "display_name": "berds_vs_drons",
   "language": "python",
   "name": "python3"
  },
  "language_info": {
   "codemirror_mode": {
    "name": "ipython",
    "version": 3
   },
   "file_extension": ".py",
   "mimetype": "text/x-python",
   "name": "python",
   "nbconvert_exporter": "python",
   "pygments_lexer": "ipython3",
   "version": "3.11.7"
  }
 },
 "nbformat": 4,
 "nbformat_minor": 2
}
