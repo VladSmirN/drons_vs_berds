{
 "cells": [
  {
   "cell_type": "code",
   "execution_count": 1,
   "metadata": {},
   "outputs": [
    {
     "name": "stderr",
     "output_type": "stream",
     "text": [
      "/tmp/ipykernel_25616/1617324509.py:2: DeprecationWarning: \n",
      "Pyarrow will become a required dependency of pandas in the next major release of pandas (pandas 3.0),\n",
      "(to allow more performant data types, such as the Arrow string type, and better interoperability with other libraries)\n",
      "but was not found to be installed on your system.\n",
      "If this would cause problems for you,\n",
      "please provide us feedback at https://github.com/pandas-dev/pandas/issues/54466\n",
      "        \n",
      "  import pandas as pd\n"
     ]
    }
   ],
   "source": [
    "import json\n",
    "import pandas as pd \n",
    "\n",
    "with open('/home/vlad/datasets/drons_vs_berds/coco/dataset/drons_vs_berds_test.json') as json_data:\n",
    "    test_json = json.load(json_data)\n",
    "with open('/home/vlad/datasets/drons_vs_berds/coco/dataset/drons_vs_berds_valid.json') as json_data:\n",
    "    valid_json = json.load(json_data)\n",
    "with open('/home/vlad/datasets/drons_vs_berds/coco/dataset/drons_vs_berds_train.json') as json_data:\n",
    "    train_json = json.load(json_data)\n",
    " "
   ]
  },
  {
   "cell_type": "code",
   "execution_count": 4,
   "metadata": {},
   "outputs": [
    {
     "data": {
      "text/plain": [
       "count     48136.000000\n",
       "mean       1525.754674\n",
       "std        6930.153119\n",
       "min          16.000000\n",
       "25%         168.000000\n",
       "50%         364.000000\n",
       "75%        1120.000000\n",
       "max      211575.000000\n",
       "Name: area, dtype: float64"
      ]
     },
     "execution_count": 4,
     "metadata": {},
     "output_type": "execute_result"
    }
   ],
   "source": [
    "annotations = pd.DataFrame(train_json['annotations'])\n",
    "annotations['area'].describe()"
   ]
  },
  {
   "cell_type": "code",
   "execution_count": 7,
   "metadata": {},
   "outputs": [],
   "source": [
    "annotations['w'] = annotations['bbox'].apply(lambda bbox : bbox[2])\n",
    "annotations['h'] = annotations['bbox'].apply(lambda bbox : bbox[3])"
   ]
  },
  {
   "cell_type": "code",
   "execution_count": 28,
   "metadata": {},
   "outputs": [
    {
     "data": {
      "text/plain": [
       "525"
      ]
     },
     "execution_count": 28,
     "metadata": {},
     "output_type": "execute_result"
    }
   ],
   "source": [
    "annotations['w'].max()"
   ]
  },
  {
   "cell_type": "code",
   "execution_count": 29,
   "metadata": {},
   "outputs": [
    {
     "data": {
      "text/plain": [
       "403"
      ]
     },
     "execution_count": 29,
     "metadata": {},
     "output_type": "execute_result"
    }
   ],
   "source": [
    "annotations['h'].max()"
   ]
  },
  {
   "cell_type": "code",
   "execution_count": 16,
   "metadata": {},
   "outputs": [
    {
     "data": {
      "text/plain": [
       "array([[ 70,  27],\n",
       "       [ 70,  27],\n",
       "       [ 70,  27],\n",
       "       ...,\n",
       "       [103,  50],\n",
       "       [108,  53],\n",
       "       [108,  53]])"
      ]
     },
     "execution_count": 16,
     "metadata": {},
     "output_type": "execute_result"
    }
   ],
   "source": [
    "annotations[['w','h']].to_numpy()"
   ]
  },
  {
   "cell_type": "code",
   "execution_count": 17,
   "metadata": {},
   "outputs": [
    {
     "data": {
      "text/plain": [
       "array([0, 0, 0, ..., 4, 4, 4], dtype=int32)"
      ]
     },
     "execution_count": 17,
     "metadata": {},
     "output_type": "execute_result"
    }
   ],
   "source": [
    "from sklearn.cluster import KMeans\n",
    "import numpy as np\n",
    " \n",
    "kmeans = KMeans(n_clusters=5, random_state=0, n_init=\"auto\").fit(annotations[['w','h']].to_numpy())\n",
    "kmeans.labels_\n",
    " "
   ]
  },
  {
   "cell_type": "code",
   "execution_count": null,
   "metadata": {},
   "outputs": [],
   "source": [
    "MODEL.ANCHOR_GENERATOR.SIZES = [[32], [64], [128], [256], [512]]\n",
    "MODEL.ANCHOR_GENERATOR.ASPECT_RATIOS = [[0.5, 1.0, 2.0]]"
   ]
  },
  {
   "cell_type": "code",
   "execution_count": 25,
   "metadata": {},
   "outputs": [
    {
     "data": {
      "text/plain": [
       "array([[ 42.00379478,  29.95150273],\n",
       "       [ 17.28690089,  12.84013799],\n",
       "       [170.20020222,  93.61577351],\n",
       "       [463.01052632, 296.18947368],\n",
       "       [ 88.55038567,  56.15327196]])"
      ]
     },
     "execution_count": 25,
     "metadata": {},
     "output_type": "execute_result"
    }
   ],
   "source": [
    "kmeans.cluster_centers_"
   ]
  },
  {
   "cell_type": "code",
   "execution_count": 27,
   "metadata": {},
   "outputs": [
    {
     "data": {
      "text/plain": [
       "array([ 35.46937798,  14.89852989, 126.22766568, 370.32262164,\n",
       "        70.51520324])"
      ]
     },
     "execution_count": 27,
     "metadata": {},
     "output_type": "execute_result"
    }
   ],
   "source": [
    "(kmeans.cluster_centers_[:,1] * kmeans.cluster_centers_[:,0])**0.5"
   ]
  },
  {
   "cell_type": "code",
   "execution_count": 21,
   "metadata": {},
   "outputs": [
    {
     "data": {
      "text/plain": [
       "array([0.71306659, 0.74276691, 0.55003327, 0.63970354, 0.63413921])"
      ]
     },
     "execution_count": 21,
     "metadata": {},
     "output_type": "execute_result"
    }
   ],
   "source": [
    "kmeans.cluster_centers_[:,1] / kmeans.cluster_centers_[:,0]"
   ]
  },
  {
   "cell_type": "code",
   "execution_count": 19,
   "metadata": {},
   "outputs": [
    {
     "data": {
      "text/plain": [
       "count     7068.000000\n",
       "mean      1407.778862\n",
       "std       5043.151991\n",
       "min         15.000000\n",
       "25%        200.000000\n",
       "50%        600.000000\n",
       "75%       1201.000000\n",
       "max      84987.000000\n",
       "Name: area, dtype: float64"
      ]
     },
     "execution_count": 19,
     "metadata": {},
     "output_type": "execute_result"
    }
   ],
   "source": [
    "annotations = pd.DataFrame(valid_json['annotations'])\n",
    "annotations['area'].describe()"
   ]
  },
  {
   "cell_type": "code",
   "execution_count": 20,
   "metadata": {},
   "outputs": [
    {
     "data": {
      "text/plain": [
       "count     48136.000000\n",
       "mean       1525.754674\n",
       "std        6930.153119\n",
       "min          16.000000\n",
       "25%         168.000000\n",
       "50%         364.000000\n",
       "75%        1120.000000\n",
       "max      211575.000000\n",
       "Name: area, dtype: float64"
      ]
     },
     "execution_count": 20,
     "metadata": {},
     "output_type": "execute_result"
    }
   ],
   "source": [
    "annotations = pd.DataFrame(train_json['annotations'])\n",
    "annotations['area'].describe()"
   ]
  },
  {
   "cell_type": "code",
   "execution_count": 15,
   "metadata": {},
   "outputs": [
    {
     "data": {
      "text/plain": [
       "count     3729.000000\n",
       "mean      1609.391258\n",
       "std       3505.232912\n",
       "min         63.000000\n",
       "25%        169.000000\n",
       "50%        320.000000\n",
       "75%        868.000000\n",
       "max      19932.000000\n",
       "Name: area, dtype: float64"
      ]
     },
     "execution_count": 15,
     "metadata": {},
     "output_type": "execute_result"
    }
   ],
   "source": [
    "annotations = pd.DataFrame(test_json['annotations'])\n",
    "annotations['area'].describe()"
   ]
  }
 ],
 "metadata": {
  "kernelspec": {
   "display_name": "berds_vs_drons",
   "language": "python",
   "name": "python3"
  },
  "language_info": {
   "codemirror_mode": {
    "name": "ipython",
    "version": 3
   },
   "file_extension": ".py",
   "mimetype": "text/x-python",
   "name": "python",
   "nbconvert_exporter": "python",
   "pygments_lexer": "ipython3",
   "version": "3.11.7"
  }
 },
 "nbformat": 4,
 "nbformat_minor": 2
}
